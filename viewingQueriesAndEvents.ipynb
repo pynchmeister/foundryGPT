import logging
import sys

logging.basicConfig(stream=sys.stdout, level=logging.DEBUG)
logging.getLogger().addHandler(logging.StreamHandler(stream=sys.stdout))
