{
  "metadata": {
    "language_info": {
      "codemirror_mode": {
        "name": "python",
        "version": 3
      },
      "file_extension": ".py",
      "mimetype": "text/x-python",
      "name": "python",
      "nbconvert_exporter": "python",
      "pygments_lexer": "ipython3",
      "version": "3.8"
    },
    "kernelspec": {
      "name": "python",
      "display_name": "Python (Pyodide)",
      "language": "python"
    }
  },
  "nbformat_minor": 4,
  "nbformat": 4,
  "cells": [
    {
      "cell_type": "markdown",
      "source": "# Index Construction\nWe can now build an index over these Document objects. The simplest high-level abstraction is to load-in the Document objects during index initialization (this is relevant if you came directly from step 1 and skipped step 2).",
      "metadata": {}
    },
    {
      "cell_type": "code",
      "source": "from llama_index import GPTVectorStoreIndex\n\nindex = GPTVectorStoreIndex.from_documents(documents)",
      "metadata": {},
      "execution_count": null,
      "outputs": []
    },
    {
      "cell_type": "markdown",
      "source": "You can also choose to build an index over a set of Node objects directly (this is a continuation of step 2).",
      "metadata": {}
    },
    {
      "cell_type": "code",
      "source": "from llama_index import GPTVectorStoreIndex\n\nindex = GPTVectorStoreIndex(nodes)",
      "metadata": {},
      "execution_count": null,
      "outputs": []
    },
    {
      "cell_type": "markdown",
      "source": "Depending on which index you use, LlamaIndex may make LLm calls in order to build the index. \n\n# Reusing Nodes across Index Structures\nIf you have multiple Node objects defined, and wish to share these Node objects across multiple index structures, you can do that. Simply instantiate a StorageContext object, add the Node objects to the underlying DocumentStore, and pass the StorageContext around.",
      "metadata": {}
    },
    {
      "cell_type": "code",
      "source": "from llama_index import StorageContext\n\nstorage_context = StorageContext.from_defaults()\nstorage_context.docstore.add_documents(nodes)\n\nindex1 = GPTVectorStoreIndex(nodes, storage_context=storage_context)\nindex2 = GPTListIndex(nodes, storage_context=storage_context)",
      "metadata": {},
      "execution_count": null,
      "outputs": []
    },
    {
      "cell_type": "markdown",
      "source": "NOTE: If the ```storage_context``` argument isn't specified, then it is implicitly created for each index during index construction. You can access the docstore associatd with a given index through ```index.storage_context```.\n\n# Inserting Documents or Nodes\nYou can also take advantage of the ```insert``` capability of indices to insert the Document objects one at a time instead of during index construction.",
      "metadata": {}
    }
  ]
}